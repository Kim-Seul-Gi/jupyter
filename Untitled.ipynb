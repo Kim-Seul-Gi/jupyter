{
 "cells": [
  {
   "cell_type": "code",
   "execution_count": null,
   "metadata": {},
   "outputs": [],
   "source": [
    "낙서장\n",
    "문제같이 입력을 하면, 저 문자집단들은 str 이다."
   ]
  },
  {
   "cell_type": "code",
   "execution_count": 44,
   "metadata": {},
   "outputs": [
    {
     "name": "stdout",
     "output_type": "stream",
     "text": [
      "['1', '2', '3', '4', '5', '6', '7', '8', '9', '10']\n",
      "<class 'list'>\n"
     ]
    }
   ],
   "source": [
    "n='1 2 3 4 5 6 7 8 9 10'\n",
    "n=n.split() # 먼저 긴 문자 집단을 리스트 형태로 나누어야 한다.\n",
    "print(n)\n",
    "print(type(n))\n"
   ]
  },
  {
   "cell_type": "code",
   "execution_count": 52,
   "metadata": {},
   "outputs": [
    {
     "name": "stdout",
     "output_type": "stream",
     "text": [
      "3 17 20\n",
      "[3, 17, 20]\n"
     ]
    }
   ],
   "source": [
    "n= input()\n",
    "n=list(map(int,n.split()))\n",
    "m=[i for x in n ]\n",
    "print(n)"
   ]
  },
  {
   "cell_type": "code",
   "execution_count": null,
   "metadata": {},
   "outputs": [
    {
     "name": "stdout",
     "output_type": "stream",
     "text": [
      "n을 입력하세요: 3\n",
      "줄을 입력하세요: 3 17 1 39 8 41 2 32 99 2 \n",
      "#1 200\n"
     ]
    }
   ],
   "source": [
    "n= input('n을 입력하세요: ')\n",
    "for i in range(int(n)):\n",
    "    numbers = map(int,input('줄을 입력하세요: ').split())\n",
    "    result = [x for x in numbers if x % 2]\n",
    "    print(f'#{i+1}', sum(result))"
   ]
  }
 ],
 "metadata": {
  "kernelspec": {
   "display_name": "Python 3",
   "language": "python",
   "name": "python3"
  },
  "language_info": {
   "codemirror_mode": {
    "name": "ipython",
    "version": 3
   },
   "file_extension": ".py",
   "mimetype": "text/x-python",
   "name": "python",
   "nbconvert_exporter": "python",
   "pygments_lexer": "ipython3",
   "version": "3.6.7"
  },
  "toc": {
   "base_numbering": 1,
   "nav_menu": {},
   "number_sections": true,
   "sideBar": true,
   "skip_h1_title": false,
   "title_cell": "Table of Contents",
   "title_sidebar": "Contents",
   "toc_cell": false,
   "toc_position": {},
   "toc_section_display": true,
   "toc_window_display": false
  }
 },
 "nbformat": 4,
 "nbformat_minor": 2
}
