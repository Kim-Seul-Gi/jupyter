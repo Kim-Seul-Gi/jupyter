{
 "cells": [
  {
   "cell_type": "markdown",
   "metadata": {},
   "source": [
    "# 190102 BAEKJOON 문제풀이\n",
    "## 입/출력 받아보기 (단계. 문제 번호. 제목)\n",
    "### 1단계. 2557번. Hello World\n",
    "- 문제 : Hello World!를 출력하시오.\n",
    "- 입력 : 없음\n",
    "- 출력 : Hello World!"
   ]
  },
  {
   "cell_type": "code",
   "execution_count": null,
   "metadata": {},
   "outputs": [],
   "source": [
    "print(\"Hello World!\")"
   ]
  },
  {
   "cell_type": "markdown",
   "metadata": {},
   "source": [
    "### 2단계. 1000번. 두 수를 입력받고 합을 출력하는 문제\n",
    "- 문제 : 두 정수 A와 B를 입력받은 다음, A+B를 출력하는 프로그램을 작성하시오.\n",
    "- 입력 : 첫째 줄에 A와 B가 주어진다. (0 < A, B < 10)\n",
    "- 출력 : 첫째 줄에 A+B를 출력한다."
   ]
  },
  {
   "cell_type": "code",
   "execution_count": null,
   "metadata": {},
   "outputs": [],
   "source": [
    "numbers = input()\n",
    "a, b = map(int,numbers.split(' '))\n",
    "print(a+b)"
   ]
  },
  {
   "cell_type": "markdown",
   "metadata": {},
   "source": [
    "### 3단계. 1001번. 두 수를 입력받고 뺄셈을 한 결과를 출력하는 문제\n",
    "- 문제 : 두 정수 A와 B를 입력받은 다음, A-B를 출력하는 프로그램을 작성하시오.\n",
    "- 입력 : 첫째 줄에 A와 B가 주어진다. (0 < A, B < 10)\n",
    "- 출력 : 첫째 줄에 A-B를 출력한다."
   ]
  },
  {
   "cell_type": "code",
   "execution_count": null,
   "metadata": {},
   "outputs": [],
   "source": [
    "numbers = input()\n",
    "a, b = map(int,numbers.split(' '))\n",
    "print(a+b)"
   ]
  },
  {
   "cell_type": "markdown",
   "metadata": {},
   "source": [
    "### 4단계. 1001번. 두 수를 입력받고 뺄셈을 한 결과를 출력하는 문제\n",
    "- 문제 : 두 정수 A와 B를 입력받은 다음, A-B를 출력하는 프로그램을 작성하시오.\n",
    "- 입력 : 첫째 줄에 A와 B가 주어진다. (0 < A, B < 10)\n",
    "- 출력 : 첫째 줄에 A-B를 출력한다."
   ]
  }
 ],
 "metadata": {
  "kernelspec": {
   "display_name": "Python 3",
   "language": "python",
   "name": "python3"
  },
  "language_info": {
   "codemirror_mode": {
    "name": "ipython",
    "version": 3
   },
   "file_extension": ".py",
   "mimetype": "text/x-python",
   "name": "python",
   "nbconvert_exporter": "python",
   "pygments_lexer": "ipython3",
   "version": "3.6.7"
  },
  "toc": {
   "base_numbering": 1,
   "nav_menu": {},
   "number_sections": true,
   "sideBar": true,
   "skip_h1_title": false,
   "title_cell": "Table of Contents",
   "title_sidebar": "Contents",
   "toc_cell": false,
   "toc_position": {},
   "toc_section_display": true,
   "toc_window_display": false
  }
 },
 "nbformat": 4,
 "nbformat_minor": 2
}
