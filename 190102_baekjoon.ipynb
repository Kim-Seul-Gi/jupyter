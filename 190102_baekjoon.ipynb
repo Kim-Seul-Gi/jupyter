{
 "cells": [
  {
   "cell_type": "markdown",
   "metadata": {},
   "source": [
    "# 190102 BAEKJOON 문제풀이\n",
    "## 입/출력 받아보기 (단계. 문제 번호. 제목)\n",
    "### 1단계. 2557번. Hello World\n",
    "- 문제 : Hello World!를 출력하시오.\n",
    "- 입력 : 없음\n",
    "- 출력 : Hello World!"
   ]
  },
  {
   "cell_type": "code",
   "execution_count": null,
   "metadata": {},
   "outputs": [],
   "source": [
    "print(\"Hello World!\")"
   ]
  },
  {
   "cell_type": "markdown",
   "metadata": {},
   "source": [
    "### 2단계. 1000번. 두 수를 입력받고 합을 출력하는 문제\n",
    "- 문제 : 두 정수 A와 B를 입력받은 다음, A+B를 출력하는 프로그램을 작성하시오.\n",
    "- 입력 : 첫째 줄에 A와 B가 주어진다. (0 < A, B < 10)\n",
    "- 출력 : 첫째 줄에 A+B를 출력한다."
   ]
  },
  {
   "cell_type": "code",
   "execution_count": null,
   "metadata": {},
   "outputs": [],
   "source": [
    "numbers = input()\n",
    "a, b = map(int,numbers.split(' '))\n",
    "print(a+b)"
   ]
  },
  {
   "cell_type": "markdown",
   "metadata": {},
   "source": [
    "### 3단계. 1001번. 두 수를 입력받고 뺄셈을 한 결과를 출력하는 문제\n",
    "- 문제 : 두 정수 A와 B를 입력받은 다음, A-B를 출력하는 프로그램을 작성하시오.\n",
    "- 입력 : 첫째 줄에 A와 B가 주어진다. (0 < A, B < 10)\n",
    "- 출력 : 첫째 줄에 A-B를 출력한다."
   ]
  },
  {
   "cell_type": "code",
   "execution_count": null,
   "metadata": {},
   "outputs": [],
   "source": [
    "numbers = input()\n",
    "a, b = map(int,numbers.split(' '))\n",
    "print(a+b)"
   ]
  },
  {
   "cell_type": "markdown",
   "metadata": {},
   "source": [
    "### 4단계. 7287번. 자신의 아이디와 푼 문제 갯수 출력하는 문제\n",
    "- 문제 : 자신이 온라인 저지에서 맞은 문제의 개수와 아이디를 그대로 출력하는 프로그램을 작성하시오.\n",
    "- 출력 : 첫 줄에 자신이 맞은 문제의 수, 둘째 줄에 아이디를 출력한다.\n"
   ]
  },
  {
   "cell_type": "code",
   "execution_count": null,
   "metadata": {},
   "outputs": [],
   "source": [
    "print(3)\n",
    "print('rlatmf2147')"
   ]
  },
  {
   "cell_type": "markdown",
   "metadata": {},
   "source": [
    "### 5단계. 10172번. 그림을 출력하는 문제\n",
    "- 문제 : 아래의 예시와 같이 개를 출력하시오.\n",
    "- 예제 출력 : \n",
    "\n",
    "|\\_/|\n",
    "\n",
    "|q p|   /}\n",
    "\n",
    "( 0 )\"\"\"\\\n",
    "\n",
    "|\"^\"`    |\n",
    "\n",
    "||_/=\\\\__|"
   ]
  },
  {
   "cell_type": "code",
   "execution_count": null,
   "metadata": {},
   "outputs": [],
   "source": [
    "print('|\\_/|','\\n|q p|   /}','\\n( 0 )\"\"\"\\\\','\\n|\"^\"`    |','\\n||_/=\\\\\\\\__|')"
   ]
  },
  {
   "cell_type": "markdown",
   "metadata": {},
   "source": [
    "### 6단계. 10718번. 주어진 문자를 출력하는 문제1\n",
    "- 문제 : ACM-ICPC 인터넷 예선, Regional, 그리고 World Finals까지 이미 2회씩 진출해버린 kriii는 미련을 버리지 못하고 왠지 모르게 올 해에도 파주 World Finals 준비 캠프에 참여했다. 대회를 뜰 줄 모르는 지박령 kriii를 위해서 격려의 문구를 출력해주자.\n",
    "- 출력 : 두 줄에 걸쳐 \"강한친구 대한육군\"을 한 줄에 한 번씩 출력한다.."
   ]
  },
  {
   "cell_type": "code",
   "execution_count": null,
   "metadata": {},
   "outputs": [],
   "source": [
    "print('강한친구 대한육군','\\n강한친구 대한육군')"
   ]
  },
  {
   "cell_type": "markdown",
   "metadata": {},
   "source": [
    "### 7단계. 11718번. 입력받은 문자를 출력하는 문제1\n",
    "- 문제 : 입력 받은 대로 출력하는 프로그램을 작성하시오.\n",
    "- 입력 : 입력이 주어진다. 입력은 최대 100줄로 이루어져 있고, 알파벳 소문자, 대문자, 공백, 숫자로만 이루어져 있다. 각 줄은 100글자를 넘지 않으며, 빈 줄은 주어지지 않는다. 또, 각 줄은 공백으로 시작하지 않고, 공백으로 끝나지 않는다.\n",
    "- 출력 : 두 줄에 걸쳐 \"강한친구 대한육군\"을 한 줄에 한 번씩 출력한다.."
   ]
  }
 ],
 "metadata": {
  "kernelspec": {
   "display_name": "Python 3",
   "language": "python",
   "name": "python3"
  },
  "language_info": {
   "codemirror_mode": {
    "name": "ipython",
    "version": 3
   },
   "file_extension": ".py",
   "mimetype": "text/x-python",
   "name": "python",
   "nbconvert_exporter": "python",
   "pygments_lexer": "ipython3",
   "version": "3.6.7"
  },
  "toc": {
   "base_numbering": 1,
   "nav_menu": {},
   "number_sections": true,
   "sideBar": true,
   "skip_h1_title": false,
   "title_cell": "Table of Contents",
   "title_sidebar": "Contents",
   "toc_cell": false,
   "toc_position": {},
   "toc_section_display": true,
   "toc_window_display": false
  }
 },
 "nbformat": 4,
 "nbformat_minor": 2
}
