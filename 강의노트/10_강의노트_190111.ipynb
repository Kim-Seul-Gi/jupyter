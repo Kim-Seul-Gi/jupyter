{
 "cells": [
  {
   "cell_type": "markdown",
   "metadata": {},
   "source": [
    "1. 인스턴트 메서드 : 첫번째 인자로 인스턴스 객체를 전달함. self\n",
    "2. 클래스 메서드 : 첫번째 인자로 클래스 객체를 전달함. cls\n",
    "3. 스태틱 메서드(정적) : 인자로 어떠한 객체도 전달하지 않음."
   ]
  },
  {
   "cell_type": "code",
   "execution_count": 6,
   "metadata": {},
   "outputs": [],
   "source": [
    "class Person:\n",
    "    title = \"사람입니다.\"\n",
    "    \n",
    "    def __init__(self,name,age):\n",
    "        self.name = name\n",
    "        self.age = age\n",
    "        \n",
    "    def instance_method(self):\n",
    "        print(self)\n",
    "        return f'{self.name}'\n",
    "    \n",
    "    def greeting(self):\n",
    "        print(self)\n",
    "        return '안녕?'\n",
    "    \n",
    "    @staticmethod\n",
    "    def static_method(nothing):\n",
    "        print(nothing)\n",
    "        return nothing\n",
    "    \n",
    "    @classmethod\n",
    "    def class_method(cls):\n",
    "        print(cls)\n",
    "        return f'{cls.title}'"
   ]
  },
  {
   "cell_type": "code",
   "execution_count": 3,
   "metadata": {},
   "outputs": [],
   "source": [
    "p1 = Person('이재찬', 25)"
   ]
  },
  {
   "cell_type": "code",
   "execution_count": 4,
   "metadata": {
    "scrolled": true
   },
   "outputs": [
    {
     "data": {
      "text/plain": [
       "mappingproxy({'__module__': '__main__',\n",
       "              'title': '사람입니다.',\n",
       "              '__init__': <function __main__.Person.__init__(self, name, age)>,\n",
       "              'instance_method': <function __main__.Person.instance_method(self)>,\n",
       "              'greeting': <function __main__.Person.greeting(self)>,\n",
       "              'static_method': <staticmethod at 0x218e5e11a90>,\n",
       "              'class_method': <classmethod at 0x218e5e11ac8>,\n",
       "              '__dict__': <attribute '__dict__' of 'Person' objects>,\n",
       "              '__weakref__': <attribute '__weakref__' of 'Person' objects>,\n",
       "              '__doc__': None})"
      ]
     },
     "execution_count": 4,
     "metadata": {},
     "output_type": "execute_result"
    }
   ],
   "source": [
    "Person.__dict__"
   ]
  },
  {
   "cell_type": "code",
   "execution_count": 4,
   "metadata": {},
   "outputs": [
    {
     "data": {
      "text/plain": [
       "{'name': '이재찬', 'age': 25}"
      ]
     },
     "execution_count": 4,
     "metadata": {},
     "output_type": "execute_result"
    }
   ],
   "source": [
    "p1.__dict__ # p1의 이름공간에는 title이 지정되어 있지는 않지만, 호출은 가능하다."
   ]
  },
  {
   "cell_type": "code",
   "execution_count": 7,
   "metadata": {},
   "outputs": [
    {
     "data": {
      "text/plain": [
       "'사람입니다.'"
      ]
     },
     "execution_count": 7,
     "metadata": {},
     "output_type": "execute_result"
    }
   ],
   "source": [
    "p1.title"
   ]
  },
  {
   "cell_type": "code",
   "execution_count": 12,
   "metadata": {},
   "outputs": [
    {
     "name": "stdout",
     "output_type": "stream",
     "text": [
      "<__main__.Person object at 0x000001FB5E3712E8>\n",
      "<__main__.Person object at 0x000001FB5E3712E8>\n"
     ]
    }
   ],
   "source": [
    "# 인스턴스 메서드는 인스턴스 객체를 넘겨준다. (자동으로) \n",
    "# p1 데이터를 해당 def로(메서드) 주고, def에서 받은 데이터 처리\n",
    "p1.instance_method()\n",
    "print(p1)"
   ]
  },
  {
   "cell_type": "code",
   "execution_count": 14,
   "metadata": {},
   "outputs": [
    {
     "name": "stdout",
     "output_type": "stream",
     "text": [
      "<class '__main__.Person'>\n",
      "<class '__main__.Person'>\n"
     ]
    }
   ],
   "source": [
    "# 클래스 메서드는 클래스 객체를 인자로 넘겨준다. \n",
    "# class 에서 기초적으로 정의된 것을 classmethod def로 주고, def에서 받은 데이터 처리\n",
    "Person.class_method()\n",
    "print(Person)"
   ]
  },
  {
   "cell_type": "code",
   "execution_count": 7,
   "metadata": {},
   "outputs": [
    {
     "name": "stdout",
     "output_type": "stream",
     "text": [
      "hi\n"
     ]
    },
    {
     "data": {
      "text/plain": [
       "'hi'"
      ]
     },
     "execution_count": 7,
     "metadata": {},
     "output_type": "execute_result"
    }
   ],
   "source": [
    "Person.static_method('hi') # 클래스 객체는 어떠한 객체도 넘겨주지 않음."
   ]
  },
  {
   "cell_type": "code",
   "execution_count": 22,
   "metadata": {},
   "outputs": [
    {
     "name": "stdout",
     "output_type": "stream",
     "text": [
      "[3, 2, 1]\n",
      "[1, 2, 3]\n"
     ]
    }
   ],
   "source": [
    "[3,2,1].sort() # 반환값이 없다.\n",
    "a=[3,2,1]\n",
    "print(a)\n",
    "a.sort()\n",
    "print(a)"
   ]
  },
  {
   "cell_type": "code",
   "execution_count": 9,
   "metadata": {},
   "outputs": [
    {
     "data": {
      "text/plain": [
       "[1, 2, 3]"
      ]
     },
     "execution_count": 9,
     "metadata": {},
     "output_type": "execute_result"
    }
   ],
   "source": [
    "sorted([3,2,1]) # 반환값[1,2,3]이 있다."
   ]
  },
  {
   "cell_type": "code",
   "execution_count": 10,
   "metadata": {},
   "outputs": [],
   "source": [
    "class Student(Person): # 부모(Person)에 있는 것을 그대로 받는다. \n",
    "    title = '학생입니다.'   \n",
    "    # 단 staticmethod에서는 부모클래스의 클래스속성값을 가져오지만,\n",
    "    # classmethod는 cls의 클래스 속성을 가져온다."
   ]
  },
  {
   "cell_type": "code",
   "execution_count": 11,
   "metadata": {},
   "outputs": [],
   "source": [
    "s1 = Student('박성민', 1)"
   ]
  },
  {
   "cell_type": "code",
   "execution_count": 12,
   "metadata": {},
   "outputs": [
    {
     "name": "stdout",
     "output_type": "stream",
     "text": [
      "<__main__.Student object at 0x00000218E5E11828>\n"
     ]
    },
    {
     "data": {
      "text/plain": [
       "'안녕?'"
      ]
     },
     "execution_count": 12,
     "metadata": {},
     "output_type": "execute_result"
    }
   ],
   "source": [
    "s1.greeting()"
   ]
  },
  {
   "cell_type": "code",
   "execution_count": 28,
   "metadata": {},
   "outputs": [
    {
     "name": "stdout",
     "output_type": "stream",
     "text": [
      "<class '__main__.Person'>\n"
     ]
    },
    {
     "data": {
      "text/plain": [
       "'사람입니다.'"
      ]
     },
     "execution_count": 28,
     "metadata": {},
     "output_type": "execute_result"
    }
   ],
   "source": [
    "Person.class_method()"
   ]
  },
  {
   "cell_type": "code",
   "execution_count": 29,
   "metadata": {},
   "outputs": [
    {
     "name": "stdout",
     "output_type": "stream",
     "text": [
      "<class '__main__.Student'>\n"
     ]
    },
    {
     "data": {
      "text/plain": [
       "'학생입니다.'"
      ]
     },
     "execution_count": 29,
     "metadata": {},
     "output_type": "execute_result"
    }
   ],
   "source": [
    "Student.class_method()"
   ]
  },
  {
   "cell_type": "markdown",
   "metadata": {},
   "source": [
    "staticmethod 와 classmethod  의 차이점 예제"
   ]
  },
  {
   "cell_type": "code",
   "execution_count": 30,
   "metadata": {},
   "outputs": [],
   "source": [
    "class Language:\n",
    "    default_language = \"English\"\n",
    "\n",
    "    def __init__(self):\n",
    "        self.show = '나의 언어는' + self.default_language\n",
    "\n",
    "    @classmethod\n",
    "    def class_my_language(cls):\n",
    "        return cls()\n",
    "\n",
    "    @staticmethod\n",
    "    def static_my_language():\n",
    "        return Language()\n",
    "\n",
    "    def print_language(self):\n",
    "        print(self.show)\n",
    "\n",
    "\n",
    "class KoreanLanguage(Language):\n",
    "    default_language = \"한국어\""
   ]
  },
  {
   "cell_type": "code",
   "execution_count": 35,
   "metadata": {},
   "outputs": [
    {
     "name": "stdout",
     "output_type": "stream",
     "text": [
      "나의 언어는English\n",
      "나의 언어는한국어\n"
     ]
    }
   ],
   "source": [
    "a = KoreanLanguage.static_my_language()\n",
    "b = KoreanLanguage.class_my_language()\n",
    "a.print_language()\n",
    "b.print_language()"
   ]
  }
 ],
 "metadata": {
  "kernelspec": {
   "display_name": "Python 3",
   "language": "python",
   "name": "python3"
  },
  "language_info": {
   "codemirror_mode": {
    "name": "ipython",
    "version": 3
   },
   "file_extension": ".py",
   "mimetype": "text/x-python",
   "name": "python",
   "nbconvert_exporter": "python",
   "pygments_lexer": "ipython3",
   "version": "3.6.7"
  },
  "toc": {
   "base_numbering": 1,
   "nav_menu": {},
   "number_sections": true,
   "sideBar": true,
   "skip_h1_title": false,
   "title_cell": "Table of Contents",
   "title_sidebar": "Contents",
   "toc_cell": false,
   "toc_position": {},
   "toc_section_display": true,
   "toc_window_display": false
  }
 },
 "nbformat": 4,
 "nbformat_minor": 2
}
