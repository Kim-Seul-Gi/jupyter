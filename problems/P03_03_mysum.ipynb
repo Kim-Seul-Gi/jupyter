{
 "cells": [
  {
   "cell_type": "markdown",
   "metadata": {},
   "source": [
    "# 문자열 덧셈 하기 - 문자열 조작 및 반복/조건문 활용\n",
    "\n",
    "**문제 풀기 전에 어떻게 풀어야할지 생각부터 해봅시다!**\n",
    "\n",
    "> 사람은 덧셈을 할때 뒤에서부터 계산하고, 받아올림을 합니다.\n",
    "> \n",
    "> 문자열 2개를 받아 덧셈을 하여 숫자를 반환하는 함수 `my_sum(num1, num2)`을 만들어보세요.\n",
    "\n",
    "\n",
    "\n",
    "**절대로 `return int(num1)+int(num2)` 이렇게 풀지 맙시다!!**\n",
    "\n",
    "**재귀함수도 사용할 필요 없습니다.**"
   ]
  },
  {
   "cell_type": "code",
   "execution_count": 338,
   "metadata": {
    "scrolled": true
   },
   "outputs": [],
   "source": [
    "# 여기에 코드를 작성하시오. # 문자열을 뒤집고, 단위 하나씩 다 나눈다음에 sum, carry 형식으로 반복시킨다. \n",
    "# 이게 교수님 원본\n",
    "def my_sum(x, y):\n",
    "    answer=''\n",
    "    different=abs(len(x)-len(y))\n",
    "    if len(x) > len(y):\n",
    "        y = '0'* different + y\n",
    "    else:\n",
    "        x = '0'* different + x\n",
    "    reverse_x=''.join(reversed(x))\n",
    "    reverse_y=''.join(reversed(y)) # 이것들의 형식은 str이다.\n",
    "    carry = 0\n",
    "    \n",
    "    for i in range(len(x)): # answer 는 str 형식이다.\n",
    "        if int(reverse_x[i])+int(reverse_y[i])+carry < 10:\n",
    "            answer += f'{carry + int(reverse_x[i])+int(reverse_y[i])}'\n",
    "            carry = 0\n",
    "        else: \n",
    "            answer += f'{carry + int(reverse_x[i])+int(reverse_y[i]) - 10}'\n",
    "            carry = 1\n",
    "\n",
    "    if carry == 1:\n",
    "        answer += str(carry)\n",
    "        \n",
    "    return str(answer)[::-1]           "
   ]
  },
  {
   "cell_type": "code",
   "execution_count": 359,
   "metadata": {
    "scrolled": true
   },
   "outputs": [],
   "source": [
    "# 여기에 코드를 작성하시오. # 문자열을 뒤집고, 단위 하나씩 다 나눈다음에 sum, carry 형식으로 반복시킨다. \n",
    "# 내 방법\n",
    "def my_sum(x, y):\n",
    "    answer=''\n",
    "    different=abs(len(x)-len(y))\n",
    "    if len(x) > len(y):\n",
    "        y = '0'* different + y\n",
    "    else:\n",
    "        x = '0'* different + x\n",
    "    reverse_x=''.join(reversed(x))\n",
    "    reverse_y=''.join(reversed(y)) # 이것들의 형식은 str이다.\n",
    "    \n",
    "    carry = 0\n",
    "    \n",
    "    for i in range(len(x)): # answer 는 str 형식이다.\n",
    "        \n",
    "        if int(reverse_x[i])+int(reverse_y[i])+carry < 10:\n",
    "            answer += f'{carry + int(reverse_x[i])+int(reverse_y[i])}'\n",
    "            carry = 0\n",
    "        if int(reverse_x[i])+int(reverse_y[i])+carry >= 10 and i < len(x)-1:\n",
    "            answer += f'{carry + int(reverse_x[i])+int(reverse_y[i]) - 10}'\n",
    "            carry = 1    \n",
    "        if  int(reverse_x[i])+int(reverse_y[i])+carry >= 10 and i == len(x)-1:\n",
    "            answer += f'{carry + int(reverse_x[i])+int(reverse_y[i]) - 10}'\n",
    "            answer += f'{carry}'\n",
    "    return str(answer)[::-1]"
   ]
  },
  {
   "cell_type": "code",
   "execution_count": 366,
   "metadata": {
    "scrolled": true
   },
   "outputs": [],
   "source": [
    "# 여기에 코드를 작성하시오. # 문자열을 뒤집고, 단위 하나씩 다 나눈다음에 sum, carry 형식으로 반복시킨다. \n",
    "# 내 방법, 수정본\n",
    "def my_sum(x, y):\n",
    "    answer=''\n",
    "    different=abs(len(x)-len(y))\n",
    "    if len(x) > len(y):\n",
    "        y = '0'* different + y\n",
    "    else:\n",
    "        x = '0'* different + x\n",
    "    reverse_x=x[::-1]\n",
    "    reverse_y=y[::-1] # 이것들의 형식은 str이다.\n",
    "    carry = 0\n",
    "    \n",
    "    for i in range(len(x)): # answer 는 str 형식이다.\n",
    "        \n",
    "        if int(reverse_x[i])+int(reverse_y[i])+carry < 10:\n",
    "            answer += f'{carry + int(reverse_x[i])+int(reverse_y[i])}'\n",
    "            carry = 0\n",
    "        if int(reverse_x[i])+int(reverse_y[i])+carry >= 10 and i < len(x)-1:\n",
    "            answer += f'{carry + int(reverse_x[i])+int(reverse_y[i]) - 10}'\n",
    "            carry = 1    \n",
    "        if  int(reverse_x[i])+int(reverse_y[i])+carry >= 10 and i == len(x)-1:\n",
    "            answer += f'{carry + int(reverse_x[i])+int(reverse_y[i]) - 10}'\n",
    "            answer += f'{carry}'\n",
    "    return int(str(answer)[::-1])"
   ]
  },
  {
   "cell_type": "code",
   "execution_count": 367,
   "metadata": {
    "scrolled": true
   },
   "outputs": [
    {
     "name": "stdout",
     "output_type": "stream",
     "text": [
      "12861\n"
     ]
    }
   ],
   "source": [
    "# 여기에 코드를 작성하시오. # 문자열을 뒤집고, 단위 하나씩 다 나눈다음에 sum, carry 형식으로 반복시킨다.\n",
    "\n",
    "print(my_sum('15', '12846'))\n",
    "    "
   ]
  },
  {
   "cell_type": "code",
   "execution_count": 361,
   "metadata": {
    "scrolled": true
   },
   "outputs": [
    {
     "name": "stdout",
     "output_type": "stream",
     "text": [
      "ba\n"
     ]
    }
   ],
   "source": [
    "# 여기에 코드를 작성하시오. # 문자열을 뒤집고, 단위 하나씩 다 나눈다음에 sum, carry 형식으로 반복시킨다.\n",
    "\n",
    "a=['a','b']\n",
    "reverse_a=''.join(reversed(a))\n",
    "print(reverse_a)\n",
    "\n",
    "    "
   ]
  },
  {
   "cell_type": "code",
   "execution_count": 348,
   "metadata": {},
   "outputs": [
    {
     "name": "stdout",
     "output_type": "stream",
     "text": [
      "8\n",
      "200\n",
      "100\n"
     ]
    }
   ],
   "source": [
    "print(my_sum('3', '5'))\n",
    "print(my_sum('123', '77'))\n",
    "print(my_sum('1', '99'))"
   ]
  }
 ],
 "metadata": {
  "kernelspec": {
   "display_name": "Python 3",
   "language": "python",
   "name": "python3"
  },
  "language_info": {
   "codemirror_mode": {
    "name": "ipython",
    "version": 3
   },
   "file_extension": ".py",
   "mimetype": "text/x-python",
   "name": "python",
   "nbconvert_exporter": "python",
   "pygments_lexer": "ipython3",
   "version": "3.6.7"
  },
  "latex_envs": {
   "LaTeX_envs_menu_present": true,
   "autoclose": false,
   "autocomplete": true,
   "bibliofile": "biblio.bib",
   "cite_by": "apalike",
   "current_citInitial": 1,
   "eqLabelWithNumbers": true,
   "eqNumInitial": 1,
   "hotkeys": {
    "equation": "Ctrl-E",
    "itemize": "Ctrl-I"
   },
   "labels_anchors": false,
   "latex_user_defs": false,
   "report_style_numbering": false,
   "user_envs_cfg": false
  },
  "toc": {
   "base_numbering": 1,
   "nav_menu": {},
   "number_sections": true,
   "sideBar": true,
   "skip_h1_title": false,
   "title_cell": "Table of Contents",
   "title_sidebar": "Contents",
   "toc_cell": false,
   "toc_position": {},
   "toc_section_display": true,
   "toc_window_display": false
  }
 },
 "nbformat": 4,
 "nbformat_minor": 2
}
