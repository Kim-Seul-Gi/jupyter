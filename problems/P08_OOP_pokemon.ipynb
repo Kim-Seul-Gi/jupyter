{
 "cells": [
  {
   "cell_type": "markdown",
   "metadata": {},
   "source": [
    "# 포켓몬 게임 만들기\n",
    "\n",
    "> 포켓몬 게임을 만들어봅시다. \n",
    "\n",
    "class Pokemon\n",
    "\n",
    "```\n",
    "* 모든 포켓몬은 기본적으로 이름(name), 레벨(level), 체력(hp)를 가지고 있습니다. \n",
    "\n",
    "* hp는 사용자로부터 값을 받는 것이 아니라 '레벨*10 + (1~5)중 랜덤값'으로 설정됩니다. \n",
    "\n",
    "* 포켓몬은 체력을 잃거나 회복할 수 있습니다.\n",
    "ex) pikachu.set_hp(4)\n",
    "\n",
    "* 포켓몬은 공격을 할 수 있습니다. \n",
    "ex) pikachu.attack(squirtle)\n",
    "```\n",
    "\n",
    "이외에 자유롭게 내용을 추가해서 만들어봅시다."
   ]
  },
  {
   "cell_type": "code",
   "execution_count": 43,
   "metadata": {},
   "outputs": [],
   "source": [
    "import random"
   ]
  },
  {
   "cell_type": "code",
   "execution_count": 259,
   "metadata": {},
   "outputs": [],
   "source": [
    "class Trainer:\n",
    "    \n",
    "    def __init__(self, name, age):\n",
    "        self.name = name\n",
    "        self.age = age\n",
    "        self.town = '태초마을'\n",
    "        self.monsterball=[]\n",
    "        \n",
    "    def get_pokemon(self, pokemon):\n",
    "        \n",
    "        if random.randint(0,1): # (최소, 최대)\n",
    "            self.monsterball.append(pokemon)\n",
    "            print(f'{self.name}가 {pokemon.name}을 잡았다..!')            \n",
    "        else:\n",
    "            print(f'level {pokemon.level}의 야생의 {pokemon.name}가 도망갔다....!')\n",
    "            \n",
    "    def pick_pokemon(self):\n",
    "        if len(self.monsterball) !=0:\n",
    "#             return random.sample(self.monsterball, 1)[0] 아래의 것과 같은 의미\n",
    "            return random.choice(self.monsterball)\n",
    "        # return 값이 무엇을 의미하는지?\n",
    "            \n",
    "        else:\n",
    "            print('포켓몬을 잡아주세요')\n",
    "        "
   ]
  },
  {
   "cell_type": "code",
   "execution_count": 269,
   "metadata": {},
   "outputs": [
    {
     "name": "stdout",
     "output_type": "stream",
     "text": [
      "1\n"
     ]
    }
   ],
   "source": [
    "# random.choice 와 random.sample 의 차이\n",
    "# choice는 원소를 출력, sample은 리스트로 출력 > 리스트의 인덱싱과정까지 해야\n",
    "# choice 결과랑 동일함.\n",
    "a= [1,2,3]\n",
    "b=random.choice(a)\n",
    "print(b)"
   ]
  },
  {
   "cell_type": "code",
   "execution_count": 271,
   "metadata": {},
   "outputs": [
    {
     "name": "stdout",
     "output_type": "stream",
     "text": [
      "지우가 피카츄을 잡았다..!\n",
      "지우가 파이리을 잡았다..!\n",
      "파이리\n"
     ]
    }
   ],
   "source": [
    "jiwoo = Trainer('지우',100)\n",
    "pika = Pokemon('피카츄',10)\n",
    "fire = Pokemon('파이리', 8)\n",
    "jiwoo.get_pokemon(pika)\n",
    "jiwoo.get_pokemon(fire)\n",
    "p = jiwoo.pick_pokemon() # 아무것도 잡지 못할 경우에 잡아달라고 출력 확인\n",
    "print(p.name)"
   ]
  },
  {
   "cell_type": "code",
   "execution_count": 278,
   "metadata": {},
   "outputs": [],
   "source": [
    "class Pokemon: # 포켓몬의 정의, 체력 변화, 공격에 의한 체력 변화 적용\n",
    "           \n",
    "    def __init__(self, name, level, exp=0):\n",
    "        self.name = name\n",
    "        self.level = level\n",
    "        self.hp = level*10 + random.randint(1,5)\n",
    "        self.exp = exp\n",
    "        \n",
    "    def set_hp(self, num):\n",
    "        self.hp += num\n",
    "        print(f'{self.name}의 체력이 {self.hp}가 되었다...!')\n",
    "        \n",
    "    def attack(self, other): # 이건 기본공격\n",
    "        damage = random.randint(1,10)\n",
    "        print(f'{self.name}이 {other.name}에게 몸통 박치기를 했다...!')\n",
    "        other.set_hp(-damage)   "
   ]
  },
  {
   "cell_type": "code",
   "execution_count": 279,
   "metadata": {},
   "outputs": [
    {
     "data": {
      "text/plain": [
       "0"
      ]
     },
     "execution_count": 279,
     "metadata": {},
     "output_type": "execute_result"
    }
   ],
   "source": [
    "pika = Pokemon('피카츄',10)\n",
    "fire = Pokemon('파이리', 8)\n",
    "pika.exp\n",
    "# fire.set_hp(0)\n",
    "# pika.attack(fire)"
   ]
  },
  {
   "cell_type": "code",
   "execution_count": 42,
   "metadata": {},
   "outputs": [],
   "source": [
    "class Pikachu(Pokemon): \n",
    "    pokemon_type = 'elec'\n",
    "    \n",
    "    def attack(self, other):\n",
    "        if random.randint(0, 1):\n",
    "            damage = random.randint(1,10)\n",
    "            print(f'{self.name}이 {other.name}에게 몸통 박치기를 했다...!')\n",
    "            \n",
    "        else:\n",
    "            damage = random.randint(10,15)            \n",
    "            print(f'{self.name}이 {other.name}에게 100만 볼트 공격을 했다..!')\n",
    "        other.set_hp(-damage)"
   ]
  },
  {
   "cell_type": "code",
   "execution_count": 149,
   "metadata": {},
   "outputs": [],
   "source": [
    "class Squirtle(Pokemon):\n",
    "    pokemon_type = 'water'\n",
    "    \n",
    "    def attack(self, other):\n",
    "        if random.randint(0, 1):\n",
    "            damage = random.randint(1,10)\n",
    "            print(f'{self.name}이 {other.name}에게 몸통 박치기를 했다...!')\n",
    "            \n",
    "        else:\n",
    "            if other.pokemon_type == 'elec':\n",
    "                damage = 30\n",
    "                print(f'{self.name}이 {other.name}에게 크리티컬.!')           \n",
    "            else:\n",
    "                damage = random.randint(10,15)            \n",
    "                print(f'{self.name}이 {other.name}에게 물대포 공격을 했다..!')\n",
    "            \n",
    "        other.set_hp(-damage)"
   ]
  },
  {
   "cell_type": "code",
   "execution_count": 280,
   "metadata": {
    "scrolled": true
   },
   "outputs": [
    {
     "data": {
      "text/plain": [
       "101"
      ]
     },
     "execution_count": 280,
     "metadata": {},
     "output_type": "execute_result"
    }
   ],
   "source": [
    "pika = Pikachu('피카츄',10)\n",
    "fire = Squirtle('파이리', 8)\n",
    "pika.hp\n",
    "while pika.hp >= 0 and fire.hp >= 0:\n",
    "    fire.attack(pika)\n",
    "    if pika.hp <= 0:\n",
    "        print(f'{pika.name}가 졌다')\n",
    "        pika.exp += 5\n",
    "        break\n",
    "        \n",
    "    pika.attack(fire)    \n",
    "    if fire.hp <= 0:\n",
    "        fire.exp += 5\n",
    "        print(f'{fire.name}가 졌다.')\n",
    "        "
   ]
  },
  {
   "cell_type": "code",
   "execution_count": 16,
   "metadata": {},
   "outputs": [
    {
     "name": "stdout",
     "output_type": "stream",
     "text": [
      "피카츄이 파이리에게 몸통 박치기를 했다...!\n",
      "파이리의 체력이 73가 되었다...!\n"
     ]
    }
   ],
   "source": [
    "pika.attack(fire)"
   ]
  },
  {
   "cell_type": "code",
   "execution_count": 12,
   "metadata": {},
   "outputs": [
    {
     "data": {
      "text/plain": [
       "{'name': '파이리', 'level': 8, 'hp': 77}"
      ]
     },
     "execution_count": 12,
     "metadata": {},
     "output_type": "execute_result"
    }
   ],
   "source": [
    "fire.__dict__"
   ]
  },
  {
   "cell_type": "code",
   "execution_count": 276,
   "metadata": {},
   "outputs": [],
   "source": [
    "p1 = Pokemon('꼬부기',10)\n",
    "p2 = Pokemon('파이리',10)\n",
    "p3 = Pokemon('이상해씨',10)\n",
    "oh = [p1, p2, p3]\n",
    "\n",
    "name = input('트레이너의 이름을 입력하세요 : ')\n",
    "age = int(input('트레이너의 나이를 설정해주세요 : '))\n",
    "name2 = input('트레이너2의 이름을 입력하세요 : ')\n",
    "age2 = int(input('트레이너2의 나이를 설정해주세요 : '))\n",
    "\n",
    "t1 = Trainer(name, age)\n",
    "t2 = Trainer(name2, age2)\n",
    "\n",
    "for pokemon in oh:\n",
    "    t1.get_pokemon(pokemon)\n",
    "    t2.get_pokemon(pokemon)\n",
    "\n",
    "t1_pokemon = t1.pick_pokemon()\n",
    "t2_pokemon = t2.pick_pokemon()\n",
    "\n",
    "while True:\n",
    "    print('트레이너 1의 공격')\n",
    "    t1_pokemon.attack(t2_pokemon)\n",
    "    print('트레이너 2의 공격')\n",
    "    t2_pokemon.attack(t1_pokemon)\n",
    "    if t1_pokemon.hp <= 0 or t2_pokemon.hp <= 0:\n",
    "        print('게임이 종료되었습니다.')\n",
    "        break"
   ]
  },
  {
   "cell_type": "markdown",
   "metadata": {},
   "source": []
  }
 ],
 "metadata": {
  "kernelspec": {
   "display_name": "Python 3",
   "language": "python",
   "name": "python3"
  },
  "language_info": {
   "codemirror_mode": {
    "name": "ipython",
    "version": 3
   },
   "file_extension": ".py",
   "mimetype": "text/x-python",
   "name": "python",
   "nbconvert_exporter": "python",
   "pygments_lexer": "ipython3",
   "version": "3.6.7"
  },
  "latex_envs": {
   "LaTeX_envs_menu_present": true,
   "autoclose": false,
   "autocomplete": true,
   "bibliofile": "biblio.bib",
   "cite_by": "apalike",
   "current_citInitial": 1,
   "eqLabelWithNumbers": true,
   "eqNumInitial": 1,
   "hotkeys": {
    "equation": "Ctrl-E",
    "itemize": "Ctrl-I"
   },
   "labels_anchors": false,
   "latex_user_defs": false,
   "report_style_numbering": false,
   "user_envs_cfg": false
  },
  "toc": {
   "base_numbering": 1,
   "nav_menu": {},
   "number_sections": true,
   "sideBar": true,
   "skip_h1_title": false,
   "title_cell": "Table of Contents",
   "title_sidebar": "Contents",
   "toc_cell": false,
   "toc_position": {},
   "toc_section_display": true,
   "toc_window_display": false
  }
 },
 "nbformat": 4,
 "nbformat_minor": 2
}
