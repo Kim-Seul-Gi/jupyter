{
 "cells": [
  {
   "cell_type": "markdown",
   "metadata": {},
   "source": [
    "# 메소드 없는 세상 <1>\n",
    "\n",
    "> 알파벳으로 이뤄진 word를 입력받아 알파벳 대소문자를 서로 교환한 결과를 반환하는 `my_swapcase(word)`를 작성해주세요.\n",
    "\n",
    "**`.upper()`, `.lower()`, `swapcase()`는 사용하지 말아주세요.**\n",
    "\n",
    "**Tip! 문자와 숫자에는 특별한 관계가 있습니다. Google에서 아스키 코드를 참고하세요**\n"
   ]
  },
  {
   "cell_type": "code",
   "execution_count": 6,
   "metadata": {},
   "outputs": [
    {
     "name": "stdout",
     "output_type": "stream",
     "text": [
      "-\n",
      "45\n"
     ]
    }
   ],
   "source": [
    "# 아래에 코드를 작성해주세요. b1~b7 단위는 128개. 2**7개\n",
    "print(chr(45))\n",
    "print(ord('-'))"
   ]
  },
  {
   "cell_type": "code",
   "execution_count": 62,
   "metadata": {},
   "outputs": [],
   "source": [
    "def my_swapcase(x):\n",
    "    result=''\n",
    "    for i in x:\n",
    "        if ord(i) >= 65 and ord(i) <= 122:\n",
    "            if ord(i) <= 90:\n",
    "                result += f'{chr(ord(i)+32)}'\n",
    "            if ord(i) >= 97:\n",
    "                result += f'{chr(ord(i)-32)}'\n",
    "            else:\n",
    "                result += f'{i}'\n",
    "        else:\n",
    "            result += f'{i}'\n",
    "    return result   "
   ]
  },
  {
   "cell_type": "code",
   "execution_count": 63,
   "metadata": {},
   "outputs": [
    {
     "name": "stdout",
     "output_type": "stream",
     "text": [
      "HELLO, wWORLD!\n",
      "@_@\n",
      "2^3은 8이다!\n"
     ]
    }
   ],
   "source": [
    "print(my_swapcase('hello, World!')) # HELLO, wORLD!\n",
    "print(my_swapcase('@_@')) # @_@\n",
    "print(my_swapcase('2^3은 8이다!')) #2^3은 8이다!"
   ]
  },
  {
   "cell_type": "markdown",
   "metadata": {},
   "source": [
    "# 메소드 없는 세상 <2>\n",
    "\n",
    "> 우리는 문자열을 만들어 나갈 때, `.join(iterable)` 함수를 사용합니다. \n",
    ">\n",
    "> `.join(iterable)`이 생각나지 않을 때를 위해 직접 만들어보면서 감사함을 느껴봅시다.\n",
    ">\n",
    "> `my_join(target, word)`를 만들어 문자열을 반환해주세요.\n",
    ">\n",
    "> target은 바꿀 대상(iterable)이며, word는 합쳐지는 단어입니다. \n",
    "\n",
    "---\n",
    "\n",
    "```\n",
    "예시)\n",
    "''.join(a) 와 my_join(a, '')은 같은 함수 호출입니다.\n",
    "\n",
    "print(my_join('배고파', '.'))\n",
    "print(my_join(['1', '2', '3'], ''))\n",
    "\n",
    "배.고.파\n",
    "123\n",
    "```"
   ]
  },
  {
   "cell_type": "code",
   "execution_count": 78,
   "metadata": {},
   "outputs": [],
   "source": [
    "# 아래에 코드를 작성해주세요. # join 은 리스트를 str으로 바꿔준다.\n",
    "def my_join(x, y):\n",
    "    result=''\n",
    "    for i in x:\n",
    "        if i != x[-1]:\n",
    "            result += i\n",
    "            result += y\n",
    "    result += x[len(x)-1]        \n",
    "\n",
    "    return result    "
   ]
  },
  {
   "cell_type": "code",
   "execution_count": 79,
   "metadata": {},
   "outputs": [
    {
     "name": "stdout",
     "output_type": "stream",
     "text": [
      "배.고.파\n",
      "123\n"
     ]
    }
   ],
   "source": [
    "print(my_join('배고파', '.'))\n",
    "print(my_join(['1', '2', '3'], ''))"
   ]
  },
  {
   "cell_type": "markdown",
   "metadata": {},
   "source": [
    "#  가능한 적게 변경하기\n",
    "\n",
    "> 대문자와 소문자가 혼합되어 있는 문자열어 주어지며\n",
    ">\n",
    "> 다음의 기준에 따라서 문자열을 소문자 혹은 대문자로 변환하세요.\n",
    "\n",
    "\n",
    "*  가능한 적게 변경하세요.\n",
    "*  만약에 문자열의 대문자 혹은 소문자가 같다면, 문자열을 소문자로 변경하세요.\n",
    "\n",
    "--- \n",
    "\n",
    "```\n",
    "예시 입력) \n",
    "solve(\"coDe\")\n",
    "solve(\"CODe\")\n",
    "solve(\"coDE\")\n",
    "\n",
    "예시 출력)\n",
    "\"code\"\n",
    "\"CODE\"\n",
    "\"code\"\n",
    "```"
   ]
  },
  {
   "cell_type": "code",
   "execution_count": 83,
   "metadata": {},
   "outputs": [],
   "source": [
    "# 아래에 코드를 작성해주세요.\n",
    "def solve(x):\n",
    "    if x[0].isupper():\n",
    "        return x.upper()\n",
    "    else:\n",
    "        return x.lower()"
   ]
  },
  {
   "cell_type": "code",
   "execution_count": 86,
   "metadata": {},
   "outputs": [
    {
     "name": "stdout",
     "output_type": "stream",
     "text": [
      "code\n",
      "CODE\n",
      "code\n"
     ]
    }
   ],
   "source": [
    "print(solve(\"coDe\"))\n",
    "print(solve(\"CODe\"))\n",
    "print(solve(\"coDE\"))"
   ]
  },
  {
   "cell_type": "markdown",
   "metadata": {},
   "source": [
    "# 숨바꼭질\n",
    "\n",
    "> 숫자가 주어지면, 사용되지 않은 숫자를 프린트하세요.\n",
    "\n",
    "---\n",
    "\n",
    "```\n",
    "예시)\n",
    "unused_digits(12, 34, 56, 78) \n",
    "\"09\"\n",
    "\n",
    "unused_digits(2015, 8, 26) \n",
    "\"3479\"\n",
    "```\n",
    "\n",
    "\n",
    "**결과값은 정렬되어야 합니다.**\n",
    "\n"
   ]
  },
  {
   "cell_type": "code",
   "execution_count": 157,
   "metadata": {},
   "outputs": [],
   "source": [
    "# 아래에 코드를 작성해주세요.\n",
    "num = [1,2,3,4,5,6,7,8,9,0]\n",
    "def unused_digits(*x):\n",
    "    num = ['1','2','3','4','5','6','7','8','9','0']\n",
    "    result=[] # result = x 안에 있는 숫자들 모임\n",
    "    final_result=[] # final_result = 최종적으로 x 안에 없는 것들의 모임\n",
    "    num_list = ''.join((map(str,x))) # 이걸 str 형태로 저장 ex. [123467]\n",
    "\n",
    "    for i in num_list:\n",
    "        if i not in result:\n",
    "            result += i # x에 있는 것들이 쭈우욱 모임. list 형태임 ex. ['1','2','3','4','6','7']\n",
    "    for i in num:\n",
    "        if i not in result:\n",
    "            final_result += i\n",
    "                 \n",
    "    return ''.join(sorted(final_result))"
   ]
  },
  {
   "cell_type": "code",
   "execution_count": 354,
   "metadata": {},
   "outputs": [],
   "source": [
    "# 강사님 코드\n",
    "def unused_digits2(*numbers):\n",
    "    result = set('0123456789')\n",
    "    for x in numbers:\n",
    "        result -= set(str(x))\n",
    "    return ''.join(sorted(result))"
   ]
  },
  {
   "cell_type": "code",
   "execution_count": 161,
   "metadata": {},
   "outputs": [
    {
     "name": "stdout",
     "output_type": "stream",
     "text": [
      "<class 'str'>\n",
      "12345678\n"
     ]
    }
   ],
   "source": [
    "# 아래에 코드를 작성해주세요.\n",
    "a= [12, 34, 56, 78]\n",
    "c=''.join((map(str,a)))\n",
    "print(type(c))\n",
    "print(c)\n",
    "    "
   ]
  },
  {
   "cell_type": "code",
   "execution_count": 355,
   "metadata": {},
   "outputs": [
    {
     "name": "stdout",
     "output_type": "stream",
     "text": [
      "09\n",
      "3479\n",
      "347\n"
     ]
    }
   ],
   "source": [
    "print(unused_digits2(12, 34, 56, 781))\n",
    "print(unused_digits2(2015, 8, 26))\n",
    "print(unused_digits2(2015, 8, 26,1,1,1,1,1,9))\n",
    "\n"
   ]
  },
  {
   "cell_type": "markdown",
   "metadata": {},
   "source": [
    "# 짝홀짝홀"
   ]
  },
  {
   "cell_type": "markdown",
   "metadata": {},
   "source": [
    "> n개의 양의 정수 리스트가 주어지면, 홀수와 짝수를 분리하고 각각의 조건에 맞게 홀수와 짝수를 \n",
    "정렬하세요.\n",
    "\n",
    "> 조건\n",
    "1. 짝수와 홀수가 번갈아 가면서 나오게 됩니다.\n",
    "2. 짝수가 먼저 나옵니다.\n",
    "3. 짝수는 오름차순으로 홀수는 내림차순으로 되어야합니다.\n",
    "\n",
    "> 인자 조건\n",
    "1. 인자 리스트의 크기는 적어도 4이상입니다.\n",
    "2. 인자 리스트의 요소값으로 0은 존재하지 않습니다.\n",
    "3. 인자 리스트의 요소값이 반복될 수 있으나 출력할 때는 중복 값이 없습니다.\n",
    "\n",
    "```\n",
    "결과) \n",
    "\n",
    "even_and_odd([7, 3 , 14 , 17])\n",
    "[14, 17, 7, 3]\n",
    "\n",
    "even_and_odd([1, 3, 5, 7, 9, 11])\n",
    "[11, 9, 7, 5, 3, 1]\n",
    "\n",
    "print(even_and_odd([1, 2, 2, 4, 4, 6, 6, 2004, 9, 11]))\n",
    "[2, 11, 4, 9, 6, 1, 2004]\n",
    "```"
   ]
  },
  {
   "cell_type": "code",
   "execution_count": 220,
   "metadata": {
    "scrolled": true
   },
   "outputs": [],
   "source": [
    "def even_and_odd(x):\n",
    "    result = []\n",
    "    even_set = [i for i in x if i % 2 == 0] \n",
    "    odd_set = [i for i in x if i % 2 != 0] # x 안에 있는 것들 중에서 짝 홀을 분리하여 각 set에 저장\n",
    "   \n",
    "    even_set = list(sorted(set(even_set)))\n",
    "    odd_set = list(sorted(set(odd_set)))[::-1]\n",
    "\n",
    "    a=even_set\n",
    "    b=odd_set\n",
    "    result=[]\n",
    "    \n",
    "    if len(a) == 0 or len(b) == 0: \n",
    "        if len(a) != 0:\n",
    "            return a\n",
    "        if len(b) != 0:\n",
    "            return b   \n",
    "    \n",
    "    if len(a) > len(b):\n",
    "        for i in range(len(b)):\n",
    "            result.append(a[i])\n",
    "            result.append(b[i])\n",
    "            \n",
    "        for i in range(len(a)-len(b)): # a[:2] 이걸 활용하면 for 문을 쓰지 않아도 된다.\n",
    "            result.append(a[len(b)+i])\n",
    "            \n",
    "        return result\n",
    "    \n",
    "    if len(a) < len(b):\n",
    "        for i in range(len(a)):\n",
    "            result.append(a[i])\n",
    "            result.append(b[i])\n",
    "            \n",
    "\n",
    "        for i in range(len(b)-len(a)):\n",
    "            result.append(b[len(a)+i]) \n",
    "            \n",
    "        return result            \n",
    "    \n",
    "    if len(a) == len(b): \n",
    "        for i in range(len(a)):\n",
    "            result.append(a[i])\n",
    "            result.append(b[i])\n",
    "        return result"
   ]
  },
  {
   "cell_type": "code",
   "execution_count": 331,
   "metadata": {},
   "outputs": [],
   "source": [
    "# 다른 코드\n",
    "# 여기에 코드를 작성하세요\n",
    "def even_and_odd2(lists) :\n",
    "    lists = sorted(list(set(lists)))\n",
    "    even = []\n",
    "    odd = []\n",
    "    result = []\n",
    "\n",
    "    for number in lists :\n",
    "        if not number % 2 :\n",
    "            even.append(number)\n",
    "        else :\n",
    "            odd.append(number)\n",
    "    even = even[::-1]\n",
    "    while True :\n",
    "        if len(even) == 0 and len(odd) ==0 :\n",
    "            break\n",
    "        if len(even) :\n",
    "            result.append(even.pop())\n",
    "        if len(odd) :\n",
    "            result.append(odd.pop())\n",
    "    return result"
   ]
  },
  {
   "cell_type": "code",
   "execution_count": 334,
   "metadata": {},
   "outputs": [],
   "source": [
    "# 강사님 코드\n",
    "def even_and_odd4(numbers):\n",
    "    even = [i for i in sorted(set(numbers)) if not i % 2]\n",
    "    odd = [i for i in sorted(set(numbers)) if i % 2][::-1]\n",
    "    \n",
    "    if len(even) > len(odd):\n",
    "        tmp = even[len(odd):]\n",
    "        even = even[:len(odd)]\n",
    "    else:\n",
    "        tmp = odd[len(even):]\n",
    "        even = odd[:len(even)]\n",
    "        \n",
    "    result=[]\n",
    "    \n",
    "    for x, y in zip(even, odd): # 길이가 같으면 zip 을 활용할 수 있다.\n",
    "        result.append(x)\n",
    "        result.append(y)\n",
    "        \n",
    "    return result + tmp"
   ]
  },
  {
   "cell_type": "code",
   "execution_count": 335,
   "metadata": {},
   "outputs": [
    {
     "name": "stdout",
     "output_type": "stream",
     "text": [
      "[17, 17, 7, 3]\n",
      "[11, 9, 7, 5, 3, 1]\n",
      "[2, 11, 4, 9, 6, 1, 2004]\n"
     ]
    }
   ],
   "source": [
    "print(even_and_odd3([7, 3 , 14 , 17]))\n",
    "print(even_and_odd3([1, 3, 5, 7, 9, 11]))\n",
    "print(even_and_odd3([1, 2, 2, 4, 4, 6, 6, 2004, 9, 11]))\n"
   ]
  },
  {
   "cell_type": "markdown",
   "metadata": {},
   "source": [
    "# 문자열 계산하기\n",
    "\n",
    "> 아래와 같이 문자열이 주어졌을 때, 바보같은 사용자를 위해 계산을 해주려고 한다.\n",
    ">\n",
    "> 이 계산기는 더하기와 빼기밖에 못한다.\n",
    ">\n",
    "> `calc(equation)`을 만들어봅시다.\n",
    "\n",
    "---\n",
    "\n",
    "```\n",
    "예시\n",
    "calc('123+2-124')\n",
    "1\n",
    "calc('-12+12-7979+9191')\n",
    "1212\n",
    "calc('+1-1+1-1+1-1+1-1+1-1+1-1+1-1+1-1+1-1+1-1+1-1+1-1+1-1+1-1+1-1+1-1')\n",
    "0\n",
    "```"
   ]
  },
  {
   "cell_type": "code",
   "execution_count": 341,
   "metadata": {},
   "outputs": [
    {
     "name": "stdout",
     "output_type": "stream",
     "text": [
      "1\n"
     ]
    }
   ],
   "source": [
    "# 다른 코드\n",
    "def calc(a):\n",
    "    a=a.replace('+',' +')\n",
    "    a=a.replace('-',' -')\n",
    "    num=list(map(int,a.split()))\n",
    "    return (sum(num))\n",
    "\n",
    "print(calc('123+2-124'))"
   ]
  },
  {
   "cell_type": "code",
   "execution_count": 352,
   "metadata": {},
   "outputs": [],
   "source": [
    "# 강사님 코드\n",
    "def calc2(x):\n",
    "    tmp=''\n",
    "    result=0\n",
    "    for char in x:\n",
    "        if tmp and not char.isdecimal():                    \n",
    "            result += int(tmp)\n",
    "            tmp = ''\n",
    "        tmp += char\n",
    "    return result + int(tmp)"
   ]
  },
  {
   "cell_type": "code",
   "execution_count": 353,
   "metadata": {},
   "outputs": [
    {
     "name": "stdout",
     "output_type": "stream",
     "text": [
      "1\n",
      "1212\n",
      "0\n"
     ]
    }
   ],
   "source": [
    "print(calc2('123+2-124'))\n",
    "print(calc('-12+12-7979+9191'))\n",
    "print(calc('+1-1+1-1+1-1+1-1+1-1+1-1+1-1+1-1+1-1+1-1+1-1+1-1+1-1+1-1+1-1+1-1'))"
   ]
  }
 ],
 "metadata": {
  "kernelspec": {
   "display_name": "Python 3",
   "language": "python",
   "name": "python3"
  },
  "language_info": {
   "codemirror_mode": {
    "name": "ipython",
    "version": 3
   },
   "file_extension": ".py",
   "mimetype": "text/x-python",
   "name": "python",
   "nbconvert_exporter": "python",
   "pygments_lexer": "ipython3",
   "version": "3.6.7"
  },
  "latex_envs": {
   "LaTeX_envs_menu_present": true,
   "autoclose": false,
   "autocomplete": true,
   "bibliofile": "biblio.bib",
   "cite_by": "apalike",
   "current_citInitial": 1,
   "eqLabelWithNumbers": true,
   "eqNumInitial": 1,
   "hotkeys": {
    "equation": "Ctrl-E",
    "itemize": "Ctrl-I"
   },
   "labels_anchors": false,
   "latex_user_defs": false,
   "report_style_numbering": false,
   "user_envs_cfg": false
  },
  "toc": {
   "base_numbering": 1,
   "nav_menu": {},
   "number_sections": true,
   "sideBar": true,
   "skip_h1_title": false,
   "title_cell": "Table of Contents",
   "title_sidebar": "Contents",
   "toc_cell": false,
   "toc_position": {},
   "toc_section_display": true,
   "toc_window_display": false
  }
 },
 "nbformat": 4,
 "nbformat_minor": 2
}
