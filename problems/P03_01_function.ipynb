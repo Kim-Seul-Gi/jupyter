{
 "cells": [
  {
   "cell_type": "markdown",
   "metadata": {},
   "source": [
    "# `abs(x)`\n",
    "\n",
    "> 절대값은 숫자(int, float)가 들어오면 절대값을 반환하고, 복소수(complex)가 들어오면 그 크기를 반환합니다.\n",
    "> \n",
    "> `my_abs(x)`를 만들어보세요."
   ]
  },
  {
   "cell_type": "markdown",
   "metadata": {},
   "source": [
    "**공식문서**\n",
    "<center>\n",
    "    <img src=\"./images/P01/abs0.png\", alt=\"\">\n",
    "</center>"
   ]
  },
  {
   "cell_type": "markdown",
   "metadata": {},
   "source": [
    "**복소수 크기 구하는법**\n",
    "<center>\n",
    "    <img src=\"./images/P01/abs.png\", alt=\"\">\n",
    "</center>"
   ]
  },
  {
   "cell_type": "code",
   "execution_count": 1,
   "metadata": {},
   "outputs": [
    {
     "name": "stdout",
     "output_type": "stream",
     "text": [
      "5.0 0.0 5\n"
     ]
    }
   ],
   "source": [
    "# 예제 입력 및 출력\n",
    "print(abs(3+4j), abs(-0.0), abs(-5))"
   ]
  },
  {
   "cell_type": "code",
   "execution_count": 21,
   "metadata": {},
   "outputs": [
    {
     "name": "stdout",
     "output_type": "stream",
     "text": [
      "3.0\n",
      "1.0\n"
     ]
    }
   ],
   "source": [
    "# 이건 복소수를 실수부, 허수부로 나누는 방법\n",
    "x=3+1j\n",
    "print(x.real)\n",
    "print(x.imag)    "
   ]
  },
  {
   "cell_type": "code",
   "execution_count": 56,
   "metadata": {},
   "outputs": [],
   "source": [
    "# 아래에 코드를 작성해주세요.\n",
    "def my_abs(x):\n",
    "    if type(x)==int or type(x)==float:\n",
    "        if x >= 0:\n",
    "            return x\n",
    "        else:\n",
    "            return x*(-1)    \n",
    "    if type(x)==complex:\n",
    "        return ((x.real)**2+(x.imag)**2)**(1/2)\n",
    "    else:\n",
    "        return 'x는 복소수가 아닙니다.'    "
   ]
  },
  {
   "cell_type": "code",
   "execution_count": 51,
   "metadata": {},
   "outputs": [
    {
     "data": {
      "text/plain": [
       "5.0"
      ]
     },
     "execution_count": 51,
     "metadata": {},
     "output_type": "execute_result"
    }
   ],
   "source": [
    "# 아래에 코드를 작성해주세요.\n",
    "my_abs(3-4j)"
   ]
  },
  {
   "cell_type": "code",
   "execution_count": 57,
   "metadata": {},
   "outputs": [
    {
     "name": "stdout",
     "output_type": "stream",
     "text": [
      "5.0 -0.0 5 x는 복소수가 아닙니다.\n"
     ]
    }
   ],
   "source": [
    "# 해당 코드를 통해 5.0 0.0 5가 나오는지 확인하세요.\n",
    "print(my_abs(3+4j), my_abs(-0.0), my_abs(-5), my_abs('ss'))"
   ]
  },
  {
   "cell_type": "markdown",
   "metadata": {},
   "source": [
    "# `all(x)`\n",
    "\n",
    "> all은 인자로 받는 iterable(range, list)의 모든 요소가 참이거나 비어있으면 True를 반환합니다.\n",
    ">\n",
    "> 이와 같은 my_all(x)을 작성해보세요"
   ]
  },
  {
   "cell_type": "code",
   "execution_count": 357,
   "metadata": {
    "scrolled": true
   },
   "outputs": [
    {
     "name": "stdout",
     "output_type": "stream",
     "text": [
      "True\n",
      "False\n",
      "False\n",
      "True\n",
      "True\n",
      "False\n"
     ]
    }
   ],
   "source": [
    "# 예제 입력 및 출력\n",
    "print(all([1, 2, 5, '6'])) # all 안에 있는 것 중에 모든 요소가 비어있거나 모두 차있으면 True\n",
    "print(all([[], 2, 5, '6']))\n",
    "print(all([[], [], [], []]))\n",
    "print(all([]))\n",
    "print(all([1]))\n",
    "print(all([2, 3, []]))"
   ]
  },
  {
   "cell_type": "code",
   "execution_count": 127,
   "metadata": {
    "scrolled": true
   },
   "outputs": [
    {
     "name": "stdout",
     "output_type": "stream",
     "text": [
      "False\n"
     ]
    }
   ],
   "source": [
    "# 예제 입력 및 출력\n",
    "print(all([[], []]))"
   ]
  },
  {
   "cell_type": "code",
   "execution_count": 355,
   "metadata": {},
   "outputs": [],
   "source": [
    "# 아래에 코드를 작성해주세요.\n",
    "def my_all(x):\n",
    "    for i in x:\n",
    "        if bool(i):\n",
    "            continue         \n",
    "        else:\n",
    "            return 'False'\n",
    "    return 'True'    "
   ]
  },
  {
   "cell_type": "code",
   "execution_count": 362,
   "metadata": {},
   "outputs": [],
   "source": [
    "# 다른 문제풀이\n",
    "def my_all2(x):\n",
    "    for i in x:\n",
    "        if not i:\n",
    "            return False                 \n",
    "    return 'True'    "
   ]
  },
  {
   "cell_type": "code",
   "execution_count": 363,
   "metadata": {
    "scrolled": true
   },
   "outputs": [
    {
     "name": "stdout",
     "output_type": "stream",
     "text": [
      "True\n",
      "False\n",
      "False\n",
      "True\n",
      "True\n",
      "False\n"
     ]
    }
   ],
   "source": [
    "# 해당 코드를 통해 True False가 나오는지 확인하세요.\n",
    "print(my_all([1, 2, 5, '6']))\n",
    "print(my_all([[], 2, 5, '6']))\n",
    "print(my_all([[], [], [], []]))\n",
    "print(my_all([]))\n",
    "print(my_all([1]))\n",
    "print(my_all([2, 3, []]))\n"
   ]
  },
  {
   "cell_type": "code",
   "execution_count": 364,
   "metadata": {
    "scrolled": true
   },
   "outputs": [
    {
     "name": "stdout",
     "output_type": "stream",
     "text": [
      "True\n",
      "False\n",
      "False\n",
      "True\n",
      "True\n",
      "False\n"
     ]
    }
   ],
   "source": [
    "# 해당 코드를 통해 True False가 나오는지 확인하세요.\n",
    "print(my_all2([1, 2, 5, '6']))\n",
    "print(my_all2([[], 2, 5, '6']))\n",
    "print(my_all2([[], [], [], []]))\n",
    "print(my_all2([]))\n",
    "print(my_all2([1]))\n",
    "print(my_all2([2, 3, []]))\n"
   ]
  },
  {
   "cell_type": "markdown",
   "metadata": {},
   "source": [
    "# `any(x)`\n",
    "\n",
    "> any는 인자로 받는 iterable(range, list)의 요소 중 하나라도 참이면 True를 반환하고, 비어있으면 False를 반환합니다.\n",
    ">\n",
    "> 이와 같은 my_any(x)를 작성해보세요."
   ]
  },
  {
   "cell_type": "code",
   "execution_count": 361,
   "metadata": {},
   "outputs": [
    {
     "name": "stdout",
     "output_type": "stream",
     "text": [
      "True\n",
      "True\n",
      "False\n",
      "True\n"
     ]
    },
    {
     "data": {
      "text/plain": [
       "True"
      ]
     },
     "execution_count": 361,
     "metadata": {},
     "output_type": "execute_result"
    }
   ],
   "source": [
    "# 예제 입력 및 출력\n",
    "print(any([1, 2, 5, '6']))\n",
    "print(any([[], 2, 5, '6']))\n",
    "print(any([0]))\n",
    "print(any([2, [], 5, '6']))\n",
    "\n",
    "bool([0])"
   ]
  },
  {
   "cell_type": "code",
   "execution_count": 136,
   "metadata": {},
   "outputs": [],
   "source": [
    "# 아래에 코드를 작성해주세요.\n",
    "def my_any(x):\n",
    "    cnt = 0\n",
    "    for i in x:\n",
    "        if bool(i):\n",
    "            cnt+=1\n",
    "        else:\n",
    "            continue\n",
    "    if cnt > 0:\n",
    "        return 'True'\n",
    "    else:\n",
    "        return 'False'"
   ]
  },
  {
   "cell_type": "code",
   "execution_count": 359,
   "metadata": {},
   "outputs": [
    {
     "name": "stdout",
     "output_type": "stream",
     "text": [
      "True\n",
      "True\n",
      "False\n",
      "True\n"
     ]
    }
   ],
   "source": [
    "# 해당 코드를 통해 True True False가 나오는지 확인하세요.\n",
    "print(my_any([1, 2, 5, '6']))\n",
    "print(my_any([[], 2, 5, '6']))\n",
    "print(my_any([0]))\n",
    "print(my_any([2, [], 5, '6']))"
   ]
  },
  {
   "cell_type": "markdown",
   "metadata": {},
   "source": [
    "# `bin(x)` - 난이도 높음\n",
    "\n",
    "> `양의 정수`를 받아서 앞에 '0b'를 붙어 있는 2진수로 표현됩니다.\n",
    ">\n",
    "> 이와 같은 `my_bin(x)`를 작성해보세요.\n",
    "\n",
    "* 음수는 고려하지 않아도 됩니다."
   ]
  },
  {
   "cell_type": "markdown",
   "metadata": {},
   "source": [
    "<center>\n",
    "    <img src=\"./images/P01/bin.png\", alt=\"bin\">\n",
    "</center>"
   ]
  },
  {
   "cell_type": "code",
   "execution_count": 145,
   "metadata": {},
   "outputs": [
    {
     "name": "stdout",
     "output_type": "stream",
     "text": [
      "0b1000000000000 0b101\n",
      "<class 'str'>\n"
     ]
    }
   ],
   "source": [
    "# bin 예제 입력 및 출력\n",
    "print(bin(4096), bin(5))\n",
    "print(type(bin(10)))"
   ]
  },
  {
   "cell_type": "code",
   "execution_count": 149,
   "metadata": {},
   "outputs": [
    {
     "name": "stdout",
     "output_type": "stream",
     "text": [
      "0b0b101\n"
     ]
    }
   ],
   "source": [
    "# 아래에 코드를 작성해주세요.\n",
    "def my_bin(x):\n",
    "    if type(x)==int and x>0:\n",
    "        a ='0b'+ bin(x)\n",
    "        print(a)\n"
   ]
  },
  {
   "cell_type": "code",
   "execution_count": 341,
   "metadata": {},
   "outputs": [],
   "source": [
    "# 아래에 코드를 작성해주세요.\n",
    "def my_bin(x):\n",
    "    if type(x)==int and x>0:\n",
    "        cnt=[]\n",
    "        while x>=1:\n",
    "            if x // 2 >= 1 and x % 2 == 1:\n",
    "                cnt.append(1)\n",
    "                x=(x-1)/2\n",
    "            if x//2 >= 1 and x % 2 == 0:\n",
    "                cnt.append(0)\n",
    "                x=x/2\n",
    "            if x==1:\n",
    "                cnt.append(1)\n",
    "                break\n",
    "        cnt.reverse()\n",
    "        print('최종적인 cnt는',cnt)\n",
    "        # cnt의 원소들은 int 형식이다. int 형식은 join을 활용할 수 없으므로\n",
    "        # cnt 안의 원소들을 문자열로 바꿔주기 위해 map을 사용한다\n",
    "        # 이를 통해 문자형 원소들을 가지는 list인 b를 만들 수 있다.\n",
    "        a=map(str,cnt) # a 의 클래스는 map 입니다.\n",
    "        print('a의 type은 ', type(a))\n",
    "        b=list(a)\n",
    "        c=''.join(b)\n",
    "        print('a는', a,'a의 type은', type(a))\n",
    "        print('b는', b,'b의 type은', type(b))\n",
    "        print('c는', c,'c의 type은', type(c))\n",
    "        print('2진수로 변환값은','0b'+''.join(list(map(str,cnt))))        \n",
    "    else:\n",
    "        return 'x는 이진수로 표현할 수 없는 수입니다.'"
   ]
  },
  {
   "cell_type": "code",
   "execution_count": 367,
   "metadata": {},
   "outputs": [],
   "source": [
    "# 아래에 코드를 작성해주세요. 위의 코드를 축약한 것이다.\n",
    "def my_bin(x):\n",
    "    if type(x)==int and x>0:\n",
    "        cnt=[]\n",
    "        while x>=1:\n",
    "            if x // 2 >= 1 and x % 2 == 1:\n",
    "                cnt.append(1)\n",
    "                x=(x-1)/2\n",
    "            if x//2 >= 1 and x % 2 == 0:\n",
    "                cnt.append(0)\n",
    "                x=x/2\n",
    "            if x==1:\n",
    "                cnt.append(1)\n",
    "                break\n",
    "        cnt.reverse()        \n",
    "        print('2진수로 변환값은','0b'+''.join(list(map(str,cnt))))\n",
    "    if x == 0:\n",
    "        return '0b0'\n",
    "    else:\n",
    "        return 'x는 이진수로 표현할 수 없는 수입니다.'"
   ]
  },
  {
   "cell_type": "code",
   "execution_count": 365,
   "metadata": {},
   "outputs": [],
   "source": [
    "# 다른 풀이\n",
    "def my_bin2(x):\n",
    "    result = ''\n",
    "    if x == 0:\n",
    "        return '0b0'\n",
    "    while x >= 1:  \n",
    "        q, r = divmod(x,2)\n",
    "        result = str(r) + result\n",
    "        x //= 2\n",
    "    return '0b' + result   "
   ]
  },
  {
   "cell_type": "code",
   "execution_count": 369,
   "metadata": {},
   "outputs": [
    {
     "name": "stdout",
     "output_type": "stream",
     "text": [
      "2진수로 변환값은 0b1\n"
     ]
    },
    {
     "data": {
      "text/plain": [
       "'x는 이진수로 표현할 수 없는 수입니다.'"
      ]
     },
     "execution_count": 369,
     "metadata": {},
     "output_type": "execute_result"
    }
   ],
   "source": [
    "my_bin(1)\n",
    " "
   ]
  },
  {
   "cell_type": "code",
   "execution_count": 346,
   "metadata": {},
   "outputs": [
    {
     "name": "stdout",
     "output_type": "stream",
     "text": [
      "2진수로 변환값은 0b1000000000000\n",
      "2진수로 변환값은 0b101\n"
     ]
    }
   ],
   "source": [
    "# my_bin 예제 입력 및 출력\n",
    "(my_bin(4096))\n",
    "(my_bin(5))"
   ]
  }
 ],
 "metadata": {
  "kernelspec": {
   "display_name": "Python 3",
   "language": "python",
   "name": "python3"
  },
  "language_info": {
   "codemirror_mode": {
    "name": "ipython",
    "version": 3
   },
   "file_extension": ".py",
   "mimetype": "text/x-python",
   "name": "python",
   "nbconvert_exporter": "python",
   "pygments_lexer": "ipython3",
   "version": "3.6.7"
  },
  "toc": {
   "base_numbering": 1,
   "nav_menu": {},
   "number_sections": true,
   "sideBar": true,
   "skip_h1_title": false,
   "title_cell": "Table of Contents",
   "title_sidebar": "Contents",
   "toc_cell": false,
   "toc_position": {},
   "toc_section_display": true,
   "toc_window_display": false
  }
 },
 "nbformat": 4,
 "nbformat_minor": 2
}
