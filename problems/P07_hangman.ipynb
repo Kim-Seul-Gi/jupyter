{
 "cells": [
  {
   "cell_type": "markdown",
   "metadata": {},
   "source": [
    "# 행맨 게임 만들기 "
   ]
  },
  {
   "cell_type": "markdown",
   "metadata": {},
   "source": [
    "## 답안 확인 하기\n",
    "\n",
    "> 행맨 게임을 위한 코드를 작성해봅시다. \n",
    ">\n",
    "> `isanswer(secret, letters)`는 정답(answer)과 추측 알파벳의 리스트(letters)를 받아서, True/False 결과를 나타냅니다.\n",
    "\n",
    "```\n",
    "예시) \n",
    "isanswer('apple', ['a', 'p', 'l'])\n",
    "\n",
    "False\n",
    "```"
   ]
  },
  {
   "cell_type": "code",
   "execution_count": 10,
   "metadata": {
    "scrolled": true
   },
   "outputs": [],
   "source": [
    "# 여기에 코드를 작성해주세요\n",
    "def isanswer(x, y):\n",
    "    for i in x:\n",
    "        if not i in y:\n",
    "            return False        \n",
    "    return True              "
   ]
  },
  {
   "cell_type": "code",
   "execution_count": 9,
   "metadata": {},
   "outputs": [
    {
     "data": {
      "text/plain": [
       "False"
      ]
     },
     "execution_count": 9,
     "metadata": {},
     "output_type": "execute_result"
    }
   ],
   "source": [
    "isanswer('apple',['a','p','l'])"
   ]
  },
  {
   "cell_type": "markdown",
   "metadata": {},
   "source": [
    "## 현재 상태 출력하기\n",
    "\n",
    "> 행맨 게임을 위한 코드를 작성해봅시다. \n",
    ">\n",
    "> `status(answer, letters)`는 정답(answer)과 추측 알파벳의 리스트(letters)를 받아서, 현재 결과를 나타냅니다.\n",
    "\n",
    "```\n",
    "예시)\n",
    "status('apple', ['a', 'p', 'l'])\n",
    "\n",
    "'appl_'\n",
    "```"
   ]
  },
  {
   "cell_type": "code",
   "execution_count": 3,
   "metadata": {},
   "outputs": [],
   "source": [
    "def status(answer, letters):\n",
    "    for char in answer:\n",
    "        if char not in letters:\n",
    "            answer = answer.replace(char, '_')\n",
    "    \n",
    "    \n",
    "    \n",
    "    return answer         "
   ]
  },
  {
   "cell_type": "code",
   "execution_count": 4,
   "metadata": {
    "scrolled": true
   },
   "outputs": [
    {
     "data": {
      "text/plain": [
       "'app__'"
      ]
     },
     "execution_count": 4,
     "metadata": {},
     "output_type": "execute_result"
    }
   ],
   "source": [
    "# 여기에 코드를 작성해주세요\n",
    "status('apple',['a','p','x'])\n"
   ]
  },
  {
   "cell_type": "markdown",
   "metadata": {},
   "source": [
    "## 행맨 로직 만들기 - 자유코딩!\n",
    "\n",
    "> 위의 함수를 활용하여 `hangman(answer)`를 만들어봅시다!\n",
    ">\n",
    "> 사용자가 답을 맞출 때까지 진행하며, 8번내로 정답을 맞춰야 합니다.\n",
    "\n",
    "추가적인 함수를 만들어도 좋습니다! 완성하신 분들은 옆사람이랑 게임을 진행해봅시다 :)"
   ]
  },
  {
   "cell_type": "code",
   "execution_count": 1,
   "metadata": {},
   "outputs": [],
   "source": [
    "# 여기에 코드를 작성해주세요. 내가 진행중\n",
    "def hangman(answer):\n",
    "    end=answer\n",
    "    letter = input('알파벳을 입력하세요: ')\n",
    "        \n",
    "    if not letter.isalpha():\n",
    "        print('알파벳만 입력해주세요')\n",
    "        \n",
    "\n",
    "    else:\n",
    "        while True:\n",
    "            for char in answer:\n",
    "                if char not in letter:\n",
    "                    answer = answer.replace(char, '_')\n",
    "                    break\n",
    "            return answer            \n",
    "       \n",
    "\n",
    "    "
   ]
  },
  {
   "cell_type": "code",
   "execution_count": null,
   "metadata": {},
   "outputs": [],
   "source": []
  },
  {
   "cell_type": "code",
   "execution_count": 2,
   "metadata": {},
   "outputs": [
    {
     "name": "stdout",
     "output_type": "stream",
     "text": [
      "알파벳을 입력하세요: a\n"
     ]
    },
    {
     "data": {
      "text/plain": [
       "'a__le'"
      ]
     },
     "execution_count": 2,
     "metadata": {},
     "output_type": "execute_result"
    }
   ],
   "source": [
    "# 행맨 게임을 시작해봅시다!\n",
    "hangman('apple')"
   ]
  },
  {
   "cell_type": "code",
   "execution_count": 4,
   "metadata": {},
   "outputs": [],
   "source": [
    "# 여기에 코드를 작성해주세요. 원본\n",
    "def status(answer, letters):\n",
    "    for word in answer:\n",
    "        if word not in letters:\n",
    "            answer = answer.replace(word,'_')\n",
    "    # print(answer)\n",
    "    return answer\n",
    "\n",
    "def hangman(answer):\n",
    "    \n",
    "    print('도전!!!!!!')\n",
    "    letters = []\n",
    "    attempt = 8\n",
    "    while True:\n",
    "        print(f' 죽기 전 남은 기회 : {attempt}번')\n",
    "        n = str(input('문자를 입력하세요: '))\n",
    "        letters.append(n)\n",
    "        last_answer = status(answer, letters)\n",
    "        \n",
    "        print(last_answer)\n",
    "        \n",
    "        if n in answer:\n",
    "            continue\n",
    "            \n",
    "        else:\n",
    "            attempt -=1\n",
    "        \n",
    "        if last_answer == answer:\n",
    "            print('정답입니다!')\n",
    "            print(f'{8-attempt}번만에 성공!!!')\n",
    "            break\n",
    "       \n",
    "            \n",
    "        if attempt == 0 :\n",
    "            print('남은 기회는 없습니다! ----꽥----')\n",
    "            print(f'정답은 ({answer})였습니다ㅜㅜ')\n",
    "            break\n",
    "    return"
   ]
  },
  {
   "cell_type": "code",
   "execution_count": 1,
   "metadata": {},
   "outputs": [],
   "source": [
    "# 여기에 코드를 작성해주세요. 원본 에 기능 추가\n",
    "def status(answer, letters):\n",
    "    for word in answer:\n",
    "        if word not in letters:\n",
    "            answer = answer.replace(word,'_')\n",
    "    # print(answer)\n",
    "    return answer\n",
    "\n",
    "def hangman(answer):\n",
    "    \n",
    "    print('도전!!!!!!')\n",
    "    letters = []\n",
    "    attempt = 8\n",
    "    while True:\n",
    "        print(f' 죽기 전 남은 기회 : {attempt}번')\n",
    "        n = str(input('문자를 입력하세요: '))\n",
    "        \n",
    "        if len(n) == 1:\n",
    "\n",
    "            letters.append(n)\n",
    "            last_answer = status(answer, letters)\n",
    "\n",
    "            print(last_answer)\n",
    "\n",
    "            if n in answer:\n",
    "                continue\n",
    "\n",
    "            else:\n",
    "                attempt -=1\n",
    "\n",
    "            if last_answer == answer:\n",
    "                print('정답입니다!')\n",
    "                print(f'{8-attempt}번만에 성공!!!')\n",
    "                break\n",
    "\n",
    "\n",
    "            if attempt == 0 :\n",
    "                print('남은 기회는 없습니다! ----꽥----')\n",
    "                print(f'정답은 ({answer})였습니다ㅜㅜ')\n",
    "                break\n",
    "                \n",
    "        else:\n",
    "            if n == answer:\n",
    "                print('완성')\n",
    "                break\n",
    "    return"
   ]
  },
  {
   "cell_type": "code",
   "execution_count": null,
   "metadata": {},
   "outputs": [],
   "source": [
    "ㅁ=''"
   ]
  },
  {
   "cell_type": "code",
   "execution_count": 2,
   "metadata": {},
   "outputs": [
    {
     "name": "stdout",
     "output_type": "stream",
     "text": [
      "도전!!!!!!\n",
      " 죽기 전 남은 기회 : 8번\n",
      "문자를 입력하세요: a\n",
      "a____\n",
      " 죽기 전 남은 기회 : 8번\n",
      "문자를 입력하세요: s\n",
      "a____\n",
      " 죽기 전 남은 기회 : 7번\n",
      "문자를 입력하세요: apple\n",
      "완성\n"
     ]
    }
   ],
   "source": [
    "hangman('apple')"
   ]
  },
  {
   "cell_type": "code",
   "execution_count": null,
   "metadata": {},
   "outputs": [],
   "source": []
  }
 ],
 "metadata": {
  "kernelspec": {
   "display_name": "Python 3",
   "language": "python",
   "name": "python3"
  },
  "language_info": {
   "codemirror_mode": {
    "name": "ipython",
    "version": 3
   },
   "file_extension": ".py",
   "mimetype": "text/x-python",
   "name": "python",
   "nbconvert_exporter": "python",
   "pygments_lexer": "ipython3",
   "version": "3.6.7"
  },
  "latex_envs": {
   "LaTeX_envs_menu_present": true,
   "autoclose": false,
   "autocomplete": true,
   "bibliofile": "biblio.bib",
   "cite_by": "apalike",
   "current_citInitial": 1,
   "eqLabelWithNumbers": true,
   "eqNumInitial": 1,
   "hotkeys": {
    "equation": "Ctrl-E",
    "itemize": "Ctrl-I"
   },
   "labels_anchors": false,
   "latex_user_defs": false,
   "report_style_numbering": false,
   "user_envs_cfg": false
  },
  "toc": {
   "base_numbering": 1,
   "nav_menu": {},
   "number_sections": true,
   "sideBar": true,
   "skip_h1_title": false,
   "title_cell": "Table of Contents",
   "title_sidebar": "Contents",
   "toc_cell": false,
   "toc_position": {},
   "toc_section_display": true,
   "toc_window_display": false
  }
 },
 "nbformat": 4,
 "nbformat_minor": 2
}
